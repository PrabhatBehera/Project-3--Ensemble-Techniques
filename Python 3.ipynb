{
 "cells": [
  {
   "cell_type": "code",
   "execution_count": null,
   "metadata": {},
   "outputs": [],
   "source": [
    "# Import required libraries \n",
    "import pandas as pd \n",
    "import numpy as np\n",
    "from sklearn import metrics\n",
    "from sklearn.metrics import confusion_matrix \n",
    "import matplotlib.pyplot as plt\n",
    "%matplotlib inline\n",
    "import seaborn as sns\n",
    "from sklearn.linear_model import LogisticRegression\n",
    "from sklearn.model_selection import train_test_split\n",
    "from sklearn.tree import DecisionTreeClassifier\n",
    "from sklearn.metrics import accuracy_score \n",
    "from sklearn.metrics import classification_report\n",
    "from IPython.display import Image\n",
    "from sklearn import tree\n",
    "from os import system"
   ]
  },
  {
   "cell_type": "code",
   "execution_count": null,
   "metadata": {},
   "outputs": [],
   "source": [
    "df=pd.read_csv(\"bank-full.csv\") # Read the dataset"
   ]
  },
  {
   "cell_type": "code",
   "execution_count": null,
   "metadata": {},
   "outputs": [],
   "source": [
    "# Univariate analysis "
   ]
  },
  {
   "cell_type": "code",
   "execution_count": null,
   "metadata": {},
   "outputs": [],
   "source": [
    "type(df)"
   ]
  },
  {
   "cell_type": "code",
   "execution_count": null,
   "metadata": {},
   "outputs": [],
   "source": [
    "df"
   ]
  },
  {
   "cell_type": "code",
   "execution_count": null,
   "metadata": {},
   "outputs": [],
   "source": [
    "df.head()"
   ]
  },
  {
   "cell_type": "code",
   "execution_count": null,
   "metadata": {},
   "outputs": [],
   "source": [
    "df.dtypes"
   ]
  },
  {
   "cell_type": "code",
   "execution_count": null,
   "metadata": {},
   "outputs": [],
   "source": [
    "df.describe()"
   ]
  },
  {
   "cell_type": "code",
   "execution_count": null,
   "metadata": {},
   "outputs": [],
   "source": [
    "df.skew()"
   ]
  },
  {
   "cell_type": "code",
   "execution_count": null,
   "metadata": {},
   "outputs": [],
   "source": [
    "df.isnull().sum() # There are no null values"
   ]
  },
  {
   "cell_type": "code",
   "execution_count": null,
   "metadata": {},
   "outputs": [],
   "source": [
    "# IQR Method of finding outliers\n",
    "Q1age=df.age.quantile(0.25)\n",
    "Q3age=df.age.quantile(0.75)\n",
    "Q1balance=df.balance.quantile(0.25)\n",
    "Q3balance=df.balance.quantile(0.75)\n",
    "Q1day=df.day.quantile(0.25)\n",
    "Q3day=df.day.quantile(0.75)\n",
    "Q1duration=df.duration.quantile(0.25)\n",
    "Q3duration=df.duration.quantile(0.75)\n",
    "Q1campaign=df.campaign.quantile(0.25)\n",
    "Q3campaign=df.campaign.quantile(0.75)\n",
    "Q1pdays=df.pdays.quantile(0.25)\n",
    "Q3pdays=df.pdays.quantile(0.75)\n",
    "Q1previous=df.previous.quantile(0.25)\n",
    "Q3previous=df.previous.quantile(0.75)"
   ]
  },
  {
   "cell_type": "code",
   "execution_count": null,
   "metadata": {},
   "outputs": [],
   "source": [
    "IQRage=Q3age-Q1age\n",
    "IQRbalance=Q3balance-Q1balance\n",
    "IQRday=Q3day-Q1day\n",
    "IQRduration=Q3duration-Q1duration\n",
    "IQRcampaign=Q3campaign-Q1campaign\n",
    "IQRpdays=Q3pdays-Q1pdays\n",
    "IQRprevious=Q3previous-Q1previous"
   ]
  },
  {
   "cell_type": "code",
   "execution_count": null,
   "metadata": {},
   "outputs": [],
   "source": [
    "lower_limit_age = Q1age - 1.5*IQRage\n",
    "upper_limit_age = Q3age + 1.5*IQRage\n",
    "lower_limit_balance = Q1balance - 1.5*IQRbalance\n",
    "upper_limit_balance = Q3balance + 1.5*IQRbalance\n",
    "lower_limit_day = Q1day - 1.5*IQRday\n",
    "upper_limit_day = Q3day + 1.5*IQRday\n",
    "lower_limit_duration = Q1duration - 1.5*IQRduration\n",
    "upper_limit_duration = Q3duration + 1.5*IQRduration\n",
    "lower_limit_campaign = Q1campaign - 1.5*IQRcampaign\n",
    "upper_limit_campaign = Q3campaign + 1.5*IQRcampaign\n",
    "lower_limit_pdays = Q1pdays - 1.5*IQRpdays\n",
    "upper_limit_pdays = Q3pdays + 1.5*IQRpdays\n",
    "lower_limit_previous = Q1previous - 1.5*IQRprevious\n",
    "upper_limit_previous = Q3previous + 1.5*IQRprevious"
   ]
  },
  {
   "cell_type": "code",
   "execution_count": null,
   "metadata": {},
   "outputs": [],
   "source": [
    "df[((df.age<lower_limit_age)|(df.age>upper_limit_age))&((df.balance<lower_limit_balance)|(df.balance>upper_limit_balance))&((df.day<lower_limit_day)|(df.day>upper_limit_day))&((df.duration<lower_limit_duration)|(df.duration>upper_limit_duration))&((df.campaign<lower_limit_campaign)|(df.campaign>upper_limit_campaign))&((df.pdays<lower_limit_pdays)|(df.pdays>upper_limit_pdays))&((df.previous<lower_limit_previous)|(df.previous>upper_limit_previous))]"
   ]
  },
  {
   "cell_type": "code",
   "execution_count": null,
   "metadata": {},
   "outputs": [],
   "source": []
  },
  {
   "cell_type": "code",
   "execution_count": null,
   "metadata": {},
   "outputs": [],
   "source": [
    "#Strategy to address Data Pollution"
   ]
  },
  {
   "cell_type": "code",
   "execution_count": null,
   "metadata": {},
   "outputs": [],
   "source": [
    "#1) Removing the columns that have almost all values as \"unknown\"\n",
    "# These columns are 'contact' and 'poutcome'\n",
    "# 'contact' should be deleted as the contact communication type does not affect our goal\n",
    "# 'poutcome' should be deleted as most the inputs are unknown and also outcome of previous marketing campaign \n",
    "#  does not guarantee nor exclude the success of this campaign"
   ]
  },
  {
   "cell_type": "code",
   "execution_count": null,
   "metadata": {},
   "outputs": [],
   "source": [
    "df2=df.drop([\"contact\",\"poutcome\"],axis=1)\n",
    "df2"
   ]
  },
  {
   "cell_type": "code",
   "execution_count": null,
   "metadata": {},
   "outputs": [],
   "source": [
    "#2)Removing columns that are related to time i.e \"day\",\"month\" and \"duration\" as these parameters will not help to get the goal."
   ]
  },
  {
   "cell_type": "code",
   "execution_count": null,
   "metadata": {},
   "outputs": [],
   "source": [
    "df3=df2.drop([\"day\",\"month\",\"duration\"],axis=1)\n",
    "df3"
   ]
  },
  {
   "cell_type": "code",
   "execution_count": null,
   "metadata": {},
   "outputs": [],
   "source": [
    "#3) All the \"Other attributes\" should be deleted as well"
   ]
  },
  {
   "cell_type": "code",
   "execution_count": null,
   "metadata": {},
   "outputs": [],
   "source": [
    "df4=df3.drop([\"campaign\",\"pdays\",\"previous\"],axis=1)"
   ]
  },
  {
   "cell_type": "code",
   "execution_count": null,
   "metadata": {},
   "outputs": [],
   "source": [
    "# Univariate \n",
    "columns= list(df)[0:-1]\n",
    "df[columns].hist (stacked=False, bins=100, figsize=(30,50), layout=(7,2));"
   ]
  },
  {
   "cell_type": "code",
   "execution_count": null,
   "metadata": {},
   "outputs": [],
   "source": [
    "#Strategy to address outlier’s treatment"
   ]
  },
  {
   "cell_type": "code",
   "execution_count": null,
   "metadata": {},
   "outputs": [],
   "source": [
    "# We used the IQR method to find the outlier's and now we can delete them as they are already identified"
   ]
  },
  {
   "cell_type": "code",
   "execution_count": null,
   "metadata": {},
   "outputs": [],
   "source": [
    "df_no_outlier_age = df[((df.age<lower_limit_age)|(df.age>upper_limit_age))&((df.balance<lower_limit_balance)|(df.balance>upper_limit_balance))&((df.day<lower_limit_day)|(df.day>upper_limit_day))&((df.duration<lower_limit_duration)|(df.duration>upper_limit_duration))&((df.campaign<lower_limit_campaign)|(df.campaign>upper_limit_campaign))&((df.pdays<lower_limit_pdays)|(df.pdays>upper_limit_pdays))&((df.previous<lower_limit_previous)|(df.previous>upper_limit_previous))]\n",
    "df_no_outlier_age"
   ]
  },
  {
   "cell_type": "code",
   "execution_count": null,
   "metadata": {},
   "outputs": [],
   "source": [
    "# Missing values treatment"
   ]
  },
  {
   "cell_type": "code",
   "execution_count": null,
   "metadata": {},
   "outputs": [],
   "source": [
    "# There are no missing values so we do not have to take any additional steps."
   ]
  },
  {
   "cell_type": "code",
   "execution_count": null,
   "metadata": {},
   "outputs": [],
   "source": [
    "# Multivariate analysis"
   ]
  },
  {
   "cell_type": "code",
   "execution_count": null,
   "metadata": {},
   "outputs": [],
   "source": [
    "sns.pairplot(df,hue=\"Target\",size=3)\n",
    "plt.show()"
   ]
  },
  {
   "cell_type": "code",
   "execution_count": null,
   "metadata": {},
   "outputs": [],
   "source": [
    "plt.hist(df['Target'])\n",
    "plt.show()\n",
    "pd.DataFrame(df.Target.value_counts())"
   ]
  },
  {
   "cell_type": "code",
   "execution_count": null,
   "metadata": {},
   "outputs": [],
   "source": [
    "#From the above pairplot and histogram, we see that the target variable has larger \"no\" values (39922)\n",
    "#compared to \"yes\"(5289). This means that fewer people have subscribed to a term deposit.\n",
    "#This disribution is clearly seen in the histogram as the difference is widespread.\n",
    "#Although in the paiplot, the values overlap each other causing a more crowded and unclear graph."
   ]
  },
  {
   "cell_type": "code",
   "execution_count": null,
   "metadata": {},
   "outputs": [],
   "source": [
    "corr = df.drop('Target',axis=1).corr()\n",
    "\n",
    "plt.figure(figsize=(12,8))\n",
    "sns.heatmap(corr, annot = True)\n",
    "plt.show()"
   ]
  },
  {
   "cell_type": "code",
   "execution_count": null,
   "metadata": {},
   "outputs": [],
   "source": [
    "# From above heatmap, we see that there is no high correlatin between features "
   ]
  },
  {
   "cell_type": "code",
   "execution_count": null,
   "metadata": {},
   "outputs": [],
   "source": [
    "# Checking if attribute types are correct \n",
    "df.dtypes"
   ]
  },
  {
   "cell_type": "code",
   "execution_count": null,
   "metadata": {},
   "outputs": [],
   "source": [
    "# We see that all the attributes are correct"
   ]
  },
  {
   "cell_type": "code",
   "execution_count": null,
   "metadata": {},
   "outputs": [],
   "source": [
    "# Get data model ready \n",
    "# Create dummy variables (one-hot encoding) for all nominal categorical variables \n",
    "\n",
    "df= pd.get_dummies(df, columns=['job','marital','education','default','housing','loan','contact','month','poutcome','Target'])"
   ]
  },
  {
   "cell_type": "code",
   "execution_count": null,
   "metadata": {},
   "outputs": [],
   "source": [
    "df.head()"
   ]
  },
  {
   "cell_type": "code",
   "execution_count": null,
   "metadata": {},
   "outputs": [],
   "source": [
    "# Here we see that all the nominal categorical variabes have now been split in multiple columns: one-hot encoding"
   ]
  },
  {
   "cell_type": "code",
   "execution_count": null,
   "metadata": {},
   "outputs": [],
   "source": [
    "# Transforming the data is not required"
   ]
  },
  {
   "cell_type": "code",
   "execution_count": null,
   "metadata": {},
   "outputs": [],
   "source": [
    "# Creating the training set and test set in ratio of 70:30"
   ]
  },
  {
   "cell_type": "code",
   "execution_count": null,
   "metadata": {},
   "outputs": [],
   "source": [
    "from sklearn.model_selection import train_test_split\n",
    "\n",
    "X= df.drop('Target_yes', axis=1)\n",
    "Y=df['Target_yes']\n",
    "model= LogisticRegression(solver=\"liblinear\")\n",
    "x_train, x_test, y_train, y_test = train_test_split(X,Y, test_size=0.3, random_state=1)\n",
    "model.fit(x_train,y_train)\n",
    "y_predict= model.predict(x_test)"
   ]
  },
  {
   "cell_type": "code",
   "execution_count": null,
   "metadata": {},
   "outputs": [],
   "source": [
    "print(\"{0:0.2f}% data is in training set\".format((len(x_train)/len(df.index))*100))\n",
    "print(\"{0:0.2f}% data is in test set\".format((len(x_test)/len(df.index))*100))"
   ]
  },
  {
   "cell_type": "code",
   "execution_count": null,
   "metadata": {},
   "outputs": [],
   "source": [
    "x_train.head() \n",
    "# This shows that the sample is randomized \n",
    "# Which is a good variation for modelling "
   ]
  },
  {
   "cell_type": "code",
   "execution_count": null,
   "metadata": {},
   "outputs": [],
   "source": [
    "x_test.head()"
   ]
  },
  {
   "cell_type": "code",
   "execution_count": null,
   "metadata": {},
   "outputs": [],
   "source": [
    "#Logistic Regression Model"
   ]
  },
  {
   "cell_type": "code",
   "execution_count": null,
   "metadata": {},
   "outputs": [],
   "source": [
    "from sklearn.metrics import confusion_matrix, recall_score, precision_score, f1_score, roc_auc_score,accuracy_score\n",
    "\n",
    "logreg = LogisticRegression(random_state=42)\n",
    "logreg.fit(x_train, y_train)\n",
    "\n",
    "def draw_cm( actual, predicted ):\n",
    "    cm = confusion_matrix( actual, predicted)\n",
    "    sns.heatmap(cm, annot=True,  fmt='.2f', xticklabels = [0,1] , yticklabels = [0,1] )\n",
    "    plt.ylabel('Observed')\n",
    "    plt.xlabel('Predicted')\n",
    "    \n",
    "print(draw_cm(y_test,y_predict))"
   ]
  },
  {
   "cell_type": "code",
   "execution_count": null,
   "metadata": {},
   "outputs": [],
   "source": [
    "print(\"Training accuracy\",logreg.score(x_train,y_train))  \n",
    "print(\"Testing accuracy\",logreg.score(x_test, y_test))\n",
    "print(\"Recall:\",recall_score(y_test,y_predict))\n",
    "print(\"Precision:\",precision_score(y_test,y_predict))\n",
    "print(\"F1 Score:\",f1_score(y_test,y_predict))"
   ]
  },
  {
   "cell_type": "code",
   "execution_count": null,
   "metadata": {},
   "outputs": [],
   "source": [
    "# From above we can see all the required data we needed like the accuracy, precision, F1 Score etc. "
   ]
  },
  {
   "cell_type": "code",
   "execution_count": null,
   "metadata": {},
   "outputs": [],
   "source": [
    "# Decesion Tree Model"
   ]
  },
  {
   "cell_type": "code",
   "execution_count": null,
   "metadata": {},
   "outputs": [],
   "source": [
    "# Decesion Tree Training\n",
    "\n",
    "classifier=DecisionTreeClassifier(criterion='gini',random_state=100,max_depth=None, min_samples_leaf=1)\n",
    "classifier.fit(x_train,y_train)\n"
   ]
  },
  {
   "cell_type": "code",
   "execution_count": null,
   "metadata": {},
   "outputs": [],
   "source": [
    "y_pred=classifier.predict(x_test)"
   ]
  },
  {
   "cell_type": "code",
   "execution_count": null,
   "metadata": {},
   "outputs": [],
   "source": [
    "print(y_pred)\n",
    "print(y_test)"
   ]
  },
  {
   "cell_type": "code",
   "execution_count": null,
   "metadata": {},
   "outputs": [],
   "source": [
    "print(confusion_matrix(y_test,y_pred))\n",
    "print(classification_report(y_test,y_pred))"
   ]
  },
  {
   "cell_type": "code",
   "execution_count": null,
   "metadata": {},
   "outputs": [],
   "source": [
    "# We see that this Decesion Tree Model has a 100% accuracy"
   ]
  },
  {
   "cell_type": "code",
   "execution_count": null,
   "metadata": {},
   "outputs": [],
   "source": [
    "# Ensemble Model 1 - Bagging"
   ]
  },
  {
   "cell_type": "code",
   "execution_count": null,
   "metadata": {},
   "outputs": [],
   "source": [
    "from sklearn.ensemble import BaggingClassifier\n",
    "bgcl = BaggingClassifier(base_estimator=classifier, n_estimators=50,random_state=1)\n",
    "bgcl = bgcl.fit(x_train, y_train)"
   ]
  },
  {
   "cell_type": "code",
   "execution_count": null,
   "metadata": {},
   "outputs": [],
   "source": [
    "y_predict = bgcl.predict(x_test)\n",
    "\n",
    "print(bgcl.score(x_test , y_test))\n",
    "\n",
    "cm=metrics.confusion_matrix(y_test, y_predict,labels=[0, 1])\n",
    "\n",
    "df_cm = pd.DataFrame(cm, index = [i for i in [\"No\",\"Yes\"]],\n",
    "                  columns = [i for i in [\"No\",\"Yes\"]])\n",
    "plt.figure(figsize = (7,5))\n",
    "sns.heatmap(df_cm, annot=True ,fmt='g')\n",
    "print(metrics.classification_report(y_pred,y_test))"
   ]
  },
  {
   "cell_type": "code",
   "execution_count": null,
   "metadata": {},
   "outputs": [],
   "source": [
    "# Accuracy for this ensemble model is also 100%"
   ]
  },
  {
   "cell_type": "code",
   "execution_count": null,
   "metadata": {},
   "outputs": [],
   "source": [
    "# Ensemble Mode 2 - AdaBoosting"
   ]
  },
  {
   "cell_type": "code",
   "execution_count": null,
   "metadata": {},
   "outputs": [],
   "source": [
    "from sklearn.ensemble import AdaBoostClassifier\n",
    "abcl = AdaBoostClassifier(base_estimator=classifier,n_estimators=50, random_state=1)\n",
    "abcl = abcl.fit(x_train, y_train)"
   ]
  },
  {
   "cell_type": "code",
   "execution_count": null,
   "metadata": {},
   "outputs": [],
   "source": [
    "y_predict = abcl.predict(x_test)\n",
    "print(abcl.score(x_test , y_test))\n",
    "\n",
    "cm=metrics.confusion_matrix(y_test, y_predict,labels=[0, 2])\n",
    "\n",
    "df_cm = pd.DataFrame(cm, index = [i for i in [\"No\",\"Yes\"]],\n",
    "                  columns = [i for i in [\"No\",\"Yes\"]])\n",
    "plt.figure(figsize = (7,5))\n",
    "sns.heatmap(df_cm, annot=True ,fmt='g')\n",
    "print(metrics.classification_report(y_pred,y_test))"
   ]
  },
  {
   "cell_type": "code",
   "execution_count": null,
   "metadata": {},
   "outputs": [],
   "source": [
    "# For the second ensemble model the accuracy is 100% as well"
   ]
  },
  {
   "cell_type": "code",
   "execution_count": null,
   "metadata": {},
   "outputs": [],
   "source": [
    "# Ensemble Model 3 - GradientBoost"
   ]
  },
  {
   "cell_type": "code",
   "execution_count": null,
   "metadata": {},
   "outputs": [],
   "source": [
    "from sklearn.ensemble import GradientBoostingClassifier\n",
    "gbcl = GradientBoostingClassifier(n_estimators = 50,random_state=1)\n",
    "gbcl = gbcl.fit(x_train, y_train)"
   ]
  },
  {
   "cell_type": "code",
   "execution_count": null,
   "metadata": {},
   "outputs": [],
   "source": [
    "y_predict = gbcl.predict(x_test)\n",
    "print(gbcl.score(x_test, y_test))\n",
    "cm=metrics.confusion_matrix(y_test, y_predict,labels=[1, 0])\n",
    "\n",
    "df_cm = pd.DataFrame(cm, index = [i for i in [\"No\",\"Yes\"]],\n",
    "                  columns = [i for i in [\"No\",\"Yes\"]])\n",
    "plt.figure(figsize = (7,5))\n",
    "sns.heatmap(df_cm, annot=True ,fmt='g')\n",
    "print(metrics.classification_report(y_pred,y_test))"
   ]
  },
  {
   "cell_type": "code",
   "execution_count": null,
   "metadata": {},
   "outputs": [],
   "source": [
    "# Even for the third ensemble model, the accuracy is 100%"
   ]
  },
  {
   "cell_type": "code",
   "execution_count": null,
   "metadata": {},
   "outputs": [],
   "source": [
    "# To conclude, we found out that out of the five models all of them have a high accuracy and 4 of them ( Decesion tree and\n",
    "#  the three ensemble methods) had 100% accuracy. Out of all of them, I think the best algorithm to use is the bagging \n",
    "#  ensemble method because it works best for complex data and hence usually in Data scence problems we will have complex models\n",
    "#  and complex data so to most efficiently deal with them the best method to use is Bagging."
   ]
  }
 ],
 "metadata": {
  "kernelspec": {
   "display_name": "Python 3",
   "language": "python",
   "name": "python3"
  },
  "language_info": {
   "codemirror_mode": {
    "name": "ipython",
    "version": 3
   },
   "file_extension": ".py",
   "mimetype": "text/x-python",
   "name": "python",
   "nbconvert_exporter": "python",
   "pygments_lexer": "ipython3",
   "version": "3.8.3"
  }
 },
 "nbformat": 4,
 "nbformat_minor": 4
}
